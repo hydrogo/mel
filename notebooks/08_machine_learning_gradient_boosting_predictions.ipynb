{
 "cells": [
  {
   "cell_type": "code",
   "execution_count": 1,
   "metadata": {
    "scrolled": true
   },
   "outputs": [],
   "source": [
    "import pandas as pd\n",
    "import numpy as np\n",
    "\n",
    "from sklearn.preprocessing import LabelEncoder\n",
    "from sklearn.model_selection import StratifiedKFold\n",
    "from sklearn.metrics import roc_auc_score\n",
    "\n",
    "from catboost import Pool, CatBoostClassifier"
   ]
  },
  {
   "cell_type": "code",
   "execution_count": 2,
   "metadata": {},
   "outputs": [],
   "source": [
    "def read_and_preprocess(filepath):\n",
    "    \n",
    "    # initial reading\n",
    "    data = pd.read_csv(filepath, index_col=0)\n",
    "    \n",
    "    # move species from index to the table\n",
    "    data[\"species\"] = data.index\n",
    "    \n",
    "    # create numeric idex\n",
    "    data.index = range(len(data))\n",
    "    \n",
    "    # create categorical feature from Phylum (string)\n",
    "    data[\"Phylum_Numeric\"] = LabelEncoder().fit_transform(data[\"Phylum\"].tolist())\n",
    "    \n",
    "    # remove features we will not use\n",
    "    data = data.drop([\"Phylum\", \"species\", \"occurrences\", \"NoSpecies\", \n",
    "                      \"C_Cnumeric\", \"SC_Numeric\", \"MaxD_Numeric\", \"System_Numeric\"], axis=1)\n",
    "    \n",
    "    # create features and target dataframes\n",
    "    features = data.drop([\"extinct\"], axis=1)\n",
    "    target = data[\"extinct\"]\n",
    "    \n",
    "    # create lists with categorical and continious features' names\n",
    "    continious_cols = []\n",
    "    categorical_cols = features.columns.drop(continious_cols).tolist()\n",
    "    \n",
    "    # make list of indexes\n",
    "    categorical_idx = [features.columns.tolist().index(col) for col in categorical_cols]\n",
    "        \n",
    "    return features, target, categorical_idx"
   ]
  },
  {
   "cell_type": "code",
   "execution_count": 3,
   "metadata": {},
   "outputs": [],
   "source": [
    "def model_me(filepath):\n",
    "    \n",
    "    # prepare data for modeling\n",
    "    features, target, cat_idx = read_and_preprocess(filepath)\n",
    "    \n",
    "    # create cross-validation instance\n",
    "    cv = StratifiedKFold(n_splits=5, shuffle=True, random_state=0)\n",
    "    \n",
    "    # create holders for scores and feature importances\n",
    "    holder = []\n",
    "    \n",
    "    # loop over different validation splits and save results\n",
    "    for i, (train_idx, test_idx) in enumerate(cv.split(features, target)):\n",
    "        \n",
    "        # Gradient boosting model instance\n",
    "        model = CatBoostClassifier(loss_function=\"Logloss\", random_seed=0)\n",
    "        \n",
    "        # Create Pool data classes for train/test\n",
    "        pool_train = Pool(features.iloc[train_idx, :], target[train_idx], cat_features=cat_idx)\n",
    "        pool_test = Pool(features.iloc[test_idx, :], target[test_idx], cat_features=cat_idx)\n",
    "        \n",
    "        # Train model\n",
    "        model.fit(pool_train, verbose=False)\n",
    "        \n",
    "        # predict class\n",
    "        target_pred = model.predict(pool_test)\n",
    "        \n",
    "        # predict probability\n",
    "        target_pred_proba = model.predict_proba(pool_test)[:, 1]\n",
    "        \n",
    "        # combine resulting prediction\n",
    "        test_prediction = pd.DataFrame(features.iloc[test_idx, :], \n",
    "                                       columns=features.columns, \n",
    "                                       index=test_idx)\n",
    "        # add target...\n",
    "        test_prediction[\"extinct\"] = target[test_idx]\n",
    "        # class predictions...\n",
    "        test_prediction[\"extinct_pred\"] = target_pred\n",
    "        # and their probability\n",
    "        test_prediction[\"extinct_pred_proba\"] = target_pred_proba\n",
    "        \n",
    "        # put a Split number pointer\n",
    "        test_prediction[\"Split_num\"] = i+1\n",
    "        \n",
    "        holder.append(test_prediction)\n",
    "        \n",
    "    \n",
    "    test_prediction_df = pd.concat(holder, axis=0)\n",
    "    \n",
    "    return test_prediction_df"
   ]
  },
  {
   "cell_type": "code",
   "execution_count": 4,
   "metadata": {
    "scrolled": false
   },
   "outputs": [
    {
     "name": "stdout",
     "output_type": "stream",
     "text": [
      "TimeInterval1: AUC 0.68\n",
      "TimeInterval2: AUC 0.76\n",
      "TimeInterval3: AUC 0.75\n",
      "TimeInterval4: AUC 0.7\n",
      "CPU times: user 4min 56s, sys: 43.7 s, total: 5min 39s\n",
      "Wall time: 1min 5s\n"
     ]
    }
   ],
   "source": [
    "%%time\n",
    "\n",
    "# loop over individual Time Intervals\n",
    "for i in range(1, 5):\n",
    "    \n",
    "    # obtain scores and feature importances using cross-validation\n",
    "    test_predictions = model_me(f\"../data/TimeInterval{i}.csv\")\n",
    "    \n",
    "    # save results to .csv\n",
    "    test_predictions.to_csv(f\"../results/test_predictions/CGB_TimeInterval{i}.csv\")\n",
    "    \n",
    "    # AUC\n",
    "    auc = roc_auc_score(test_predictions[\"extinct\"], test_predictions[\"extinct_pred_proba\"])\n",
    "    \n",
    "    print(f\"TimeInterval{i}: AUC {np.round(auc, 2)}\")"
   ]
  }
 ],
 "metadata": {
  "kernelspec": {
   "display_name": "Python 3",
   "language": "python",
   "name": "python3"
  },
  "language_info": {
   "codemirror_mode": {
    "name": "ipython",
    "version": 3
   },
   "file_extension": ".py",
   "mimetype": "text/x-python",
   "name": "python",
   "nbconvert_exporter": "python",
   "pygments_lexer": "ipython3",
   "version": "3.8.3"
  }
 },
 "nbformat": 4,
 "nbformat_minor": 2
}
