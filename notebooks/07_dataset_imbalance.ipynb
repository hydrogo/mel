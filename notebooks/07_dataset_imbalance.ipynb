{
 "cells": [
  {
   "cell_type": "code",
   "execution_count": 18,
   "metadata": {},
   "outputs": [],
   "source": [
    "import pandas as pd\n",
    "import numpy as np"
   ]
  },
  {
   "cell_type": "code",
   "execution_count": 22,
   "metadata": {},
   "outputs": [
    {
     "name": "stdout",
     "output_type": "stream",
     "text": [
      "Time Interval 1 length: 416\n",
      "extinct\n",
      "0    372\n",
      "1     44\n",
      "Name: occurrences, dtype: int64\n",
      "Extinction %:  10.6\n",
      "\n",
      "Time Interval 2 length: 607\n",
      "extinct\n",
      "0    345\n",
      "1    262\n",
      "Name: occurrences, dtype: int64\n",
      "Extinction %:  43.2\n",
      "\n",
      "Time Interval 3 length: 395\n",
      "extinct\n",
      "0    171\n",
      "1    224\n",
      "Name: occurrences, dtype: int64\n",
      "Extinction %:  56.7\n",
      "\n",
      "Time Interval 4 length: 217\n",
      "extinct\n",
      "0    132\n",
      "1     85\n",
      "Name: occurrences, dtype: int64\n",
      "Extinction %:  39.2\n",
      "\n"
     ]
    }
   ],
   "source": [
    "# investigate class imbalance in input data\n",
    "for i in range(1,5):\n",
    "    \n",
    "    df = pd.read_csv(f\"../data/TimeInterval{i}.csv\")\n",
    "    \n",
    "    print(f\"Time Interval {i} length: {len(df)}\")\n",
    "    print(df.groupby(\"extinct\").count()[\"occurrences\"])\n",
    "    print(\"Extinction %: \", np.round(df.groupby(\"extinct\").count()[\"occurrences\"].iloc[1]/len(df)*100, 1))\n",
    "    print(\"\")"
   ]
  }
 ],
 "metadata": {
  "kernelspec": {
   "display_name": "Python 3",
   "language": "python",
   "name": "python3"
  },
  "language_info": {
   "codemirror_mode": {
    "name": "ipython",
    "version": 3
   },
   "file_extension": ".py",
   "mimetype": "text/x-python",
   "name": "python",
   "nbconvert_exporter": "python",
   "pygments_lexer": "ipython3",
   "version": "3.8.3"
  }
 },
 "nbformat": 4,
 "nbformat_minor": 4
}
